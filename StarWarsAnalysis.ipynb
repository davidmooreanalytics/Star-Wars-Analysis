{
 "cells": [
  {
   "cell_type": "markdown",
   "source": [
    "# Star Wars Analysis\n",
    "### (Data provided by FiveThirtyEight)\n",
    "Star Wars fandom now spans almost five decades, so it is understandable that opinions on which movie is best varies highly.  However, FiveThirtyEight set out to probe if America understood that \"The Empire Strikes Back\" is undoubtedly the best movie of them all.  By utilizing an online survey via SurveyMonkey, they received 835 total responses, which I will clean and explore to determine if the answers back up their assertion."
   ],
   "metadata": {
    "collapsed": false
   }
  },
  {
   "cell_type": "code",
   "execution_count": 1,
   "metadata": {
    "collapsed": true
   },
   "outputs": [],
   "source": [
    "import numpy as np\n",
    "import pandas as pd\n",
    "import matplotlib.pyplot as plt"
   ]
  },
  {
   "cell_type": "code",
   "execution_count": 2,
   "outputs": [],
   "source": [
    "star_wars = pd.read_csv('StarWars.csv',encoding='ISO-8859-1')"
   ],
   "metadata": {
    "collapsed": false,
    "pycharm": {
     "name": "#%%\n"
    }
   }
  },
  {
   "cell_type": "markdown",
   "source": [
    "**Data Dictionary**\n",
    "Below are some common column categorizations and their meanings:\n",
    "- **RespondentID**: An anonymized ID for the respondent (person taking the survey)\n",
    "- **Gender**: The respondent's gender\n",
    "- **Age**: The respondent's age\n",
    "- **Household Income**: The respondent's income\n",
    "- **Education**: The respondent's education level\n",
    "- **Location (Census Region)**: The respondent's location\n",
    "- **Have you seen any of the 6 films in the Star Wars franchise**: A *Yes* or *No* response\n",
    "- **Do you consider yourself to be a fan of the Star Wars film franchise?**: A *Yes* or *No* response"
   ],
   "metadata": {
    "collapsed": false
   }
  },
  {
   "cell_type": "code",
   "execution_count": 3,
   "outputs": [
    {
     "name": "stdout",
     "output_type": "stream",
     "text": [
      "Index(['RespondentID',\n",
      "       'Have you seen any of the 6 films in the Star Wars franchise?',\n",
      "       'Do you consider yourself to be a fan of the Star Wars film franchise?',\n",
      "       'Which of the following Star Wars films have you seen? Please select all that apply.',\n",
      "       'Unnamed: 4', 'Unnamed: 5', 'Unnamed: 6', 'Unnamed: 7', 'Unnamed: 8',\n",
      "       'Please rank the Star Wars films in order of preference with 1 being your favorite film in the franchise and 6 being your least favorite film.',\n",
      "       'Unnamed: 10', 'Unnamed: 11', 'Unnamed: 12', 'Unnamed: 13',\n",
      "       'Unnamed: 14',\n",
      "       'Please state whether you view the following characters favorably, unfavorably, or are unfamiliar with him/her.',\n",
      "       'Unnamed: 16', 'Unnamed: 17', 'Unnamed: 18', 'Unnamed: 19',\n",
      "       'Unnamed: 20', 'Unnamed: 21', 'Unnamed: 22', 'Unnamed: 23',\n",
      "       'Unnamed: 24', 'Unnamed: 25', 'Unnamed: 26', 'Unnamed: 27',\n",
      "       'Unnamed: 28', 'Which character shot first?',\n",
      "       'Are you familiar with the Expanded Universe?',\n",
      "       'Do you consider yourself to be a fan of the Expanded Universe?æ',\n",
      "       'Do you consider yourself to be a fan of the Star Trek franchise?',\n",
      "       'Gender', 'Age', 'Household Income', 'Education',\n",
      "       'Location (Census Region)'],\n",
      "      dtype='object')\n"
     ]
    }
   ],
   "source": [
    "print(star_wars.columns)"
   ],
   "metadata": {
    "collapsed": false,
    "pycharm": {
     "name": "#%%\n"
    }
   }
  },
  {
   "cell_type": "code",
   "execution_count": 4,
   "outputs": [
    {
     "name": "stdout",
     "output_type": "stream",
     "text": [
      "   RespondentID Have you seen any of the 6 films in the Star Wars franchise?  \\\n",
      "0           NaN                                           Response             \n",
      "1  3.292880e+09                                                Yes             \n",
      "2  3.292880e+09                                                 No             \n",
      "3  3.292765e+09                                                Yes             \n",
      "4  3.292763e+09                                                Yes             \n",
      "5  3.292731e+09                                                Yes             \n",
      "6  3.292719e+09                                                Yes             \n",
      "7  3.292685e+09                                                Yes             \n",
      "8  3.292664e+09                                                Yes             \n",
      "9  3.292654e+09                                                Yes             \n",
      "\n",
      "  Do you consider yourself to be a fan of the Star Wars film franchise?  \\\n",
      "0                                           Response                      \n",
      "1                                                Yes                      \n",
      "2                                                NaN                      \n",
      "3                                                 No                      \n",
      "4                                                Yes                      \n",
      "5                                                Yes                      \n",
      "6                                                Yes                      \n",
      "7                                                Yes                      \n",
      "8                                                Yes                      \n",
      "9                                                Yes                      \n",
      "\n",
      "  Which of the following Star Wars films have you seen? Please select all that apply.  \\\n",
      "0           Star Wars: Episode I  The Phantom Menace                                    \n",
      "1           Star Wars: Episode I  The Phantom Menace                                    \n",
      "2                                                NaN                                    \n",
      "3           Star Wars: Episode I  The Phantom Menace                                    \n",
      "4           Star Wars: Episode I  The Phantom Menace                                    \n",
      "5           Star Wars: Episode I  The Phantom Menace                                    \n",
      "6           Star Wars: Episode I  The Phantom Menace                                    \n",
      "7           Star Wars: Episode I  The Phantom Menace                                    \n",
      "8           Star Wars: Episode I  The Phantom Menace                                    \n",
      "9           Star Wars: Episode I  The Phantom Menace                                    \n",
      "\n",
      "                                    Unnamed: 4  \\\n",
      "0  Star Wars: Episode II  Attack of the Clones   \n",
      "1  Star Wars: Episode II  Attack of the Clones   \n",
      "2                                          NaN   \n",
      "3  Star Wars: Episode II  Attack of the Clones   \n",
      "4  Star Wars: Episode II  Attack of the Clones   \n",
      "5  Star Wars: Episode II  Attack of the Clones   \n",
      "6  Star Wars: Episode II  Attack of the Clones   \n",
      "7  Star Wars: Episode II  Attack of the Clones   \n",
      "8  Star Wars: Episode II  Attack of the Clones   \n",
      "9  Star Wars: Episode II  Attack of the Clones   \n",
      "\n",
      "                                    Unnamed: 5  \\\n",
      "0  Star Wars: Episode III  Revenge of the Sith   \n",
      "1  Star Wars: Episode III  Revenge of the Sith   \n",
      "2                                          NaN   \n",
      "3  Star Wars: Episode III  Revenge of the Sith   \n",
      "4  Star Wars: Episode III  Revenge of the Sith   \n",
      "5  Star Wars: Episode III  Revenge of the Sith   \n",
      "6  Star Wars: Episode III  Revenge of the Sith   \n",
      "7  Star Wars: Episode III  Revenge of the Sith   \n",
      "8  Star Wars: Episode III  Revenge of the Sith   \n",
      "9  Star Wars: Episode III  Revenge of the Sith   \n",
      "\n",
      "                          Unnamed: 6  \\\n",
      "0  Star Wars: Episode IV  A New Hope   \n",
      "1  Star Wars: Episode IV  A New Hope   \n",
      "2                                NaN   \n",
      "3                                NaN   \n",
      "4  Star Wars: Episode IV  A New Hope   \n",
      "5  Star Wars: Episode IV  A New Hope   \n",
      "6  Star Wars: Episode IV  A New Hope   \n",
      "7  Star Wars: Episode IV  A New Hope   \n",
      "8  Star Wars: Episode IV  A New Hope   \n",
      "9  Star Wars: Episode IV  A New Hope   \n",
      "\n",
      "                                     Unnamed: 7  \\\n",
      "0  Star Wars: Episode V The Empire Strikes Back   \n",
      "1  Star Wars: Episode V The Empire Strikes Back   \n",
      "2                                           NaN   \n",
      "3                                           NaN   \n",
      "4  Star Wars: Episode V The Empire Strikes Back   \n",
      "5  Star Wars: Episode V The Empire Strikes Back   \n",
      "6  Star Wars: Episode V The Empire Strikes Back   \n",
      "7  Star Wars: Episode V The Empire Strikes Back   \n",
      "8  Star Wars: Episode V The Empire Strikes Back   \n",
      "9  Star Wars: Episode V The Empire Strikes Back   \n",
      "\n",
      "                                 Unnamed: 8  \\\n",
      "0  Star Wars: Episode VI Return of the Jedi   \n",
      "1  Star Wars: Episode VI Return of the Jedi   \n",
      "2                                       NaN   \n",
      "3                                       NaN   \n",
      "4  Star Wars: Episode VI Return of the Jedi   \n",
      "5  Star Wars: Episode VI Return of the Jedi   \n",
      "6  Star Wars: Episode VI Return of the Jedi   \n",
      "7  Star Wars: Episode VI Return of the Jedi   \n",
      "8  Star Wars: Episode VI Return of the Jedi   \n",
      "9  Star Wars: Episode VI Return of the Jedi   \n",
      "\n",
      "  Please rank the Star Wars films in order of preference with 1 being your favorite film in the franchise and 6 being your least favorite film.  \\\n",
      "0           Star Wars: Episode I  The Phantom Menace                                                                                              \n",
      "1                                                  3                                                                                              \n",
      "2                                                NaN                                                                                              \n",
      "3                                                  1                                                                                              \n",
      "4                                                  5                                                                                              \n",
      "5                                                  5                                                                                              \n",
      "6                                                  1                                                                                              \n",
      "7                                                  6                                                                                              \n",
      "8                                                  4                                                                                              \n",
      "9                                                  5                                                                                              \n",
      "\n",
      "   ...         Unnamed: 28       Which character shot first?  \\\n",
      "0  ...                Yoda                          Response   \n",
      "1  ...      Very favorably  I don't understand this question   \n",
      "2  ...                 NaN                               NaN   \n",
      "3  ...    Unfamiliar (N/A)  I don't understand this question   \n",
      "4  ...      Very favorably  I don't understand this question   \n",
      "5  ...  Somewhat favorably                            Greedo   \n",
      "6  ...      Very favorably                               Han   \n",
      "7  ...      Very favorably                               Han   \n",
      "8  ...      Very favorably                               Han   \n",
      "9  ...  Somewhat favorably                               Han   \n",
      "\n",
      "  Are you familiar with the Expanded Universe?  \\\n",
      "0                                     Response   \n",
      "1                                          Yes   \n",
      "2                                          NaN   \n",
      "3                                           No   \n",
      "4                                           No   \n",
      "5                                          Yes   \n",
      "6                                          Yes   \n",
      "7                                          Yes   \n",
      "8                                           No   \n",
      "9                                           No   \n",
      "\n",
      "  Do you consider yourself to be a fan of the Expanded Universe?æ  \\\n",
      "0                                           Response                 \n",
      "1                                                 No                 \n",
      "2                                                NaN                 \n",
      "3                                                NaN                 \n",
      "4                                                NaN                 \n",
      "5                                                 No                 \n",
      "6                                                 No                 \n",
      "7                                                 No                 \n",
      "8                                                NaN                 \n",
      "9                                                NaN                 \n",
      "\n",
      "  Do you consider yourself to be a fan of the Star Trek franchise?    Gender  \\\n",
      "0                                           Response                Response   \n",
      "1                                                 No                    Male   \n",
      "2                                                Yes                    Male   \n",
      "3                                                 No                    Male   \n",
      "4                                                Yes                    Male   \n",
      "5                                                 No                    Male   \n",
      "6                                                Yes                    Male   \n",
      "7                                                 No                    Male   \n",
      "8                                                Yes                    Male   \n",
      "9                                                 No                    Male   \n",
      "\n",
      "        Age     Household Income                         Education  \\\n",
      "0  Response             Response                          Response   \n",
      "1     18-29                  NaN                High school degree   \n",
      "2     18-29         $0 - $24,999                   Bachelor degree   \n",
      "3     18-29         $0 - $24,999                High school degree   \n",
      "4     18-29  $100,000 - $149,999  Some college or Associate degree   \n",
      "5     18-29  $100,000 - $149,999  Some college or Associate degree   \n",
      "6     18-29    $25,000 - $49,999                   Bachelor degree   \n",
      "7     18-29                  NaN                High school degree   \n",
      "8     18-29                  NaN                High school degree   \n",
      "9     18-29         $0 - $24,999  Some college or Associate degree   \n",
      "\n",
      "  Location (Census Region)  \n",
      "0                 Response  \n",
      "1           South Atlantic  \n",
      "2       West South Central  \n",
      "3       West North Central  \n",
      "4       West North Central  \n",
      "5       West North Central  \n",
      "6          Middle Atlantic  \n",
      "7       East North Central  \n",
      "8           South Atlantic  \n",
      "9           South Atlantic  \n",
      "\n",
      "[10 rows x 38 columns]\n"
     ]
    }
   ],
   "source": [
    "print(star_wars.head(10))"
   ],
   "metadata": {
    "collapsed": false,
    "pycharm": {
     "name": "#%%\n"
    }
   }
  },
  {
   "cell_type": "markdown",
   "source": [
    "**Observations**\n",
    "- After looking into the first 10 rows of the dataset, we can immediately see that there are multiple missing or null values from where the respondent chose not to answer the question.\n",
    "- I will next look into the last two columns mentioned in the data dictionary as I will likely need to convert them into boolean answers."
   ],
   "metadata": {
    "collapsed": false
   }
  },
  {
   "cell_type": "code",
   "execution_count": 5,
   "outputs": [
    {
     "name": "stdout",
     "output_type": "stream",
     "text": [
      "Yes         936\n",
      "No          250\n",
      "Response      1\n",
      "Name: Have you seen any of the 6 films in the Star Wars franchise?, dtype: int64\n",
      "There are 0 null counts for the 'Have you seen any of the 6 films in the Star Wars franchise?' column\n"
     ]
    }
   ],
   "source": [
    "print(star_wars['Have you seen any of the 6 films in the Star Wars franchise?'].value_counts())\n",
    "seen_null = star_wars['Have you seen any of the 6 films in the Star Wars franchise?'].isnull().sum()\n",
    "print(\"There are {} null counts for the 'Have you seen any of the 6 films in the Star Wars franchise?' column\".format(seen_null))"
   ],
   "metadata": {
    "collapsed": false,
    "pycharm": {
     "name": "#%%\n"
    }
   }
  },
  {
   "cell_type": "code",
   "execution_count": 6,
   "outputs": [
    {
     "name": "stdout",
     "output_type": "stream",
     "text": [
      "Yes         552\n",
      "No          284\n",
      "Response      1\n",
      "Name: Do you consider yourself to be a fan of the Star Wars film franchise?, dtype: int64\n",
      "There are 350 null counts for the 'Do you consider yourself to be a fan of the Star Wars film franchise?' column\n"
     ]
    }
   ],
   "source": [
    "print(star_wars['Do you consider yourself to be a fan of the Star Wars film franchise?'].value_counts())\n",
    "film_null = star_wars['Do you consider yourself to be a fan of the Star Wars film franchise?'].isnull().sum()\n",
    "print(\"There are {} null counts for the 'Do you consider yourself to be a fan of the Star Wars film franchise?' column\".format(film_null))"
   ],
   "metadata": {
    "collapsed": false,
    "pycharm": {
     "name": "#%%\n"
    }
   }
  },
  {
   "cell_type": "markdown",
   "source": [
    "**Observation**\n",
    "- After finding that there is a single \"Response\" answer for the column, I looked into the raw data and found that the problematic response answered \"The Phantom Menace\" in the question \"Have you seen any of the 6 films in the Star Wars franchise?\" and will therefore count it as a yes for the column.  However, I will convert it as a null value for the \"Do you consider yourself to be a fan of the Star Wars film franchise?\"."
   ],
   "metadata": {
    "collapsed": false,
    "pycharm": {
     "name": "#%% md\n"
    }
   }
  },
  {
   "cell_type": "code",
   "execution_count": 7,
   "outputs": [],
   "source": [
    "six_films_bool = {\n",
    "    'Yes': True,\n",
    "    'No': False,\n",
    "    'Response': True\n",
    "}\n",
    "star_wars['Have you seen any of the 6 films in the Star Wars franchise?'] = star_wars['Have you seen any of the 6 films in the Star Wars franchise?'].map(six_films_bool)\n",
    "\n",
    "fan_bool = {\n",
    "    'Yes': True,\n",
    "    'No':False,\n",
    "}\n",
    "star_wars['Do you consider yourself to be a fan of the Star Wars film franchise?'] = star_wars['Do you consider yourself to be a fan of the Star Wars film franchise?'].map(fan_bool)"
   ],
   "metadata": {
    "collapsed": false,
    "pycharm": {
     "name": "#%%\n"
    }
   }
  },
  {
   "cell_type": "code",
   "execution_count": 8,
   "outputs": [
    {
     "name": "stdout",
     "output_type": "stream",
     "text": [
      "True     552\n",
      "False    284\n",
      "Name: Do you consider yourself to be a fan of the Star Wars film franchise?, dtype: int64\n"
     ]
    }
   ],
   "source": [
    "print(star_wars['Do you consider yourself to be a fan of the Star Wars film franchise?'].value_counts())"
   ],
   "metadata": {
    "collapsed": false,
    "pycharm": {
     "name": "#%%\n"
    }
   }
  },
  {
   "cell_type": "code",
   "execution_count": 9,
   "outputs": [
    {
     "name": "stdout",
     "output_type": "stream",
     "text": [
      "True     937\n",
      "False    250\n",
      "Name: Have you seen any of the 6 films in the Star Wars franchise?, dtype: int64\n"
     ]
    }
   ],
   "source": [
    "print(star_wars['Have you seen any of the 6 films in the Star Wars franchise?'].value_counts())"
   ],
   "metadata": {
    "collapsed": false,
    "pycharm": {
     "name": "#%%\n"
    }
   }
  },
  {
   "cell_type": "markdown",
   "source": [
    "**Column Name and Data Change**\n",
    "- Now that we have converted those rows into Boolean values, I will change the column names related to each movie title into just the episode's number and convert all instances of the movie to a Boolean value as well.\n",
    "    - Ex. \"Star Wars: Episode I The Phantom Menace\" will be converted to be just \"Episode I\"\n",
    "    - Ex. \"Unnamed: 4\" will be changed to \"Episode II\""
   ],
   "metadata": {
    "collapsed": false
   }
  },
  {
   "cell_type": "code",
   "execution_count": 10,
   "outputs": [],
   "source": [
    "titles = {\n",
    "    'Which of the following Star Wars films have you seen? Please select all that apply.':'episode_1',\n",
    "    'Unnamed: 4':'episode_2',\n",
    "    'Unnamed: 5':'episode_3',\n",
    "    'Unnamed: 6':'episode_4',\n",
    "    'Unnamed: 7':'episode_5',\n",
    "    'Unnamed: 8': 'episode_6'\n",
    "}\n",
    "title_answers = {\n",
    "    'Star Wars: Episode I  The Phantom Menace':True,\n",
    "    'Star Wars: Episode II  Attack of the Clones':True,\n",
    "    'Star Wars: Episode III  Revenge of the Sith':True,\n",
    "    'Star Wars: Episode IV  A New Hope':True,\n",
    "    'Star Wars: Episode V The Empire Strikes Back':True,\n",
    "    'Star Wars: Episode VI Return of the Jedi':True,\n",
    "    np.NaN: False\n",
    "}\n",
    "for col in star_wars.columns[3:9]:\n",
    "    star_wars[col] = star_wars[col].map(title_answers)\n",
    "\n",
    "star_wars = star_wars.rename(columns=titles)"
   ],
   "metadata": {
    "collapsed": false,
    "pycharm": {
     "name": "#%%\n"
    }
   }
  },
  {
   "cell_type": "code",
   "execution_count": 11,
   "outputs": [
    {
     "data": {
      "text/plain": "   RespondentID  Have you seen any of the 6 films in the Star Wars franchise?  \\\n0           NaN                                               True              \n1  3.292880e+09                                               True              \n2  3.292880e+09                                              False              \n3  3.292765e+09                                               True              \n4  3.292763e+09                                               True              \n\n  Do you consider yourself to be a fan of the Star Wars film franchise?  \\\n0                                                NaN                      \n1                                               True                      \n2                                                NaN                      \n3                                              False                      \n4                                               True                      \n\n   episode_1  episode_2  episode_3  episode_4  episode_5  episode_6  \\\n0       True       True       True       True       True       True   \n1       True       True       True       True       True       True   \n2      False      False      False      False      False      False   \n3       True       True       True      False      False      False   \n4       True       True       True       True       True       True   \n\n  Please rank the Star Wars films in order of preference with 1 being your favorite film in the franchise and 6 being your least favorite film.  \\\n0           Star Wars: Episode I  The Phantom Menace                                                                                              \n1                                                  3                                                                                              \n2                                                NaN                                                                                              \n3                                                  1                                                                                              \n4                                                  5                                                                                              \n\n   ...       Unnamed: 28       Which character shot first?  \\\n0  ...              Yoda                          Response   \n1  ...    Very favorably  I don't understand this question   \n2  ...               NaN                               NaN   \n3  ...  Unfamiliar (N/A)  I don't understand this question   \n4  ...    Very favorably  I don't understand this question   \n\n  Are you familiar with the Expanded Universe?  \\\n0                                     Response   \n1                                          Yes   \n2                                          NaN   \n3                                           No   \n4                                           No   \n\n  Do you consider yourself to be a fan of the Expanded Universe?æ  \\\n0                                           Response                 \n1                                                 No                 \n2                                                NaN                 \n3                                                NaN                 \n4                                                NaN                 \n\n  Do you consider yourself to be a fan of the Star Trek franchise?    Gender  \\\n0                                           Response                Response   \n1                                                 No                    Male   \n2                                                Yes                    Male   \n3                                                 No                    Male   \n4                                                Yes                    Male   \n\n        Age     Household Income                         Education  \\\n0  Response             Response                          Response   \n1     18-29                  NaN                High school degree   \n2     18-29         $0 - $24,999                   Bachelor degree   \n3     18-29         $0 - $24,999                High school degree   \n4     18-29  $100,000 - $149,999  Some college or Associate degree   \n\n  Location (Census Region)  \n0                 Response  \n1           South Atlantic  \n2       West South Central  \n3       West North Central  \n4       West North Central  \n\n[5 rows x 38 columns]",
      "text/html": "<div>\n<style scoped>\n    .dataframe tbody tr th:only-of-type {\n        vertical-align: middle;\n    }\n\n    .dataframe tbody tr th {\n        vertical-align: top;\n    }\n\n    .dataframe thead th {\n        text-align: right;\n    }\n</style>\n<table border=\"1\" class=\"dataframe\">\n  <thead>\n    <tr style=\"text-align: right;\">\n      <th></th>\n      <th>RespondentID</th>\n      <th>Have you seen any of the 6 films in the Star Wars franchise?</th>\n      <th>Do you consider yourself to be a fan of the Star Wars film franchise?</th>\n      <th>episode_1</th>\n      <th>episode_2</th>\n      <th>episode_3</th>\n      <th>episode_4</th>\n      <th>episode_5</th>\n      <th>episode_6</th>\n      <th>Please rank the Star Wars films in order of preference with 1 being your favorite film in the franchise and 6 being your least favorite film.</th>\n      <th>...</th>\n      <th>Unnamed: 28</th>\n      <th>Which character shot first?</th>\n      <th>Are you familiar with the Expanded Universe?</th>\n      <th>Do you consider yourself to be a fan of the Expanded Universe?æ</th>\n      <th>Do you consider yourself to be a fan of the Star Trek franchise?</th>\n      <th>Gender</th>\n      <th>Age</th>\n      <th>Household Income</th>\n      <th>Education</th>\n      <th>Location (Census Region)</th>\n    </tr>\n  </thead>\n  <tbody>\n    <tr>\n      <th>0</th>\n      <td>NaN</td>\n      <td>True</td>\n      <td>NaN</td>\n      <td>True</td>\n      <td>True</td>\n      <td>True</td>\n      <td>True</td>\n      <td>True</td>\n      <td>True</td>\n      <td>Star Wars: Episode I  The Phantom Menace</td>\n      <td>...</td>\n      <td>Yoda</td>\n      <td>Response</td>\n      <td>Response</td>\n      <td>Response</td>\n      <td>Response</td>\n      <td>Response</td>\n      <td>Response</td>\n      <td>Response</td>\n      <td>Response</td>\n      <td>Response</td>\n    </tr>\n    <tr>\n      <th>1</th>\n      <td>3.292880e+09</td>\n      <td>True</td>\n      <td>True</td>\n      <td>True</td>\n      <td>True</td>\n      <td>True</td>\n      <td>True</td>\n      <td>True</td>\n      <td>True</td>\n      <td>3</td>\n      <td>...</td>\n      <td>Very favorably</td>\n      <td>I don't understand this question</td>\n      <td>Yes</td>\n      <td>No</td>\n      <td>No</td>\n      <td>Male</td>\n      <td>18-29</td>\n      <td>NaN</td>\n      <td>High school degree</td>\n      <td>South Atlantic</td>\n    </tr>\n    <tr>\n      <th>2</th>\n      <td>3.292880e+09</td>\n      <td>False</td>\n      <td>NaN</td>\n      <td>False</td>\n      <td>False</td>\n      <td>False</td>\n      <td>False</td>\n      <td>False</td>\n      <td>False</td>\n      <td>NaN</td>\n      <td>...</td>\n      <td>NaN</td>\n      <td>NaN</td>\n      <td>NaN</td>\n      <td>NaN</td>\n      <td>Yes</td>\n      <td>Male</td>\n      <td>18-29</td>\n      <td>$0 - $24,999</td>\n      <td>Bachelor degree</td>\n      <td>West South Central</td>\n    </tr>\n    <tr>\n      <th>3</th>\n      <td>3.292765e+09</td>\n      <td>True</td>\n      <td>False</td>\n      <td>True</td>\n      <td>True</td>\n      <td>True</td>\n      <td>False</td>\n      <td>False</td>\n      <td>False</td>\n      <td>1</td>\n      <td>...</td>\n      <td>Unfamiliar (N/A)</td>\n      <td>I don't understand this question</td>\n      <td>No</td>\n      <td>NaN</td>\n      <td>No</td>\n      <td>Male</td>\n      <td>18-29</td>\n      <td>$0 - $24,999</td>\n      <td>High school degree</td>\n      <td>West North Central</td>\n    </tr>\n    <tr>\n      <th>4</th>\n      <td>3.292763e+09</td>\n      <td>True</td>\n      <td>True</td>\n      <td>True</td>\n      <td>True</td>\n      <td>True</td>\n      <td>True</td>\n      <td>True</td>\n      <td>True</td>\n      <td>5</td>\n      <td>...</td>\n      <td>Very favorably</td>\n      <td>I don't understand this question</td>\n      <td>No</td>\n      <td>NaN</td>\n      <td>Yes</td>\n      <td>Male</td>\n      <td>18-29</td>\n      <td>$100,000 - $149,999</td>\n      <td>Some college or Associate degree</td>\n      <td>West North Central</td>\n    </tr>\n  </tbody>\n</table>\n<p>5 rows × 38 columns</p>\n</div>"
     },
     "execution_count": 11,
     "metadata": {},
     "output_type": "execute_result"
    }
   ],
   "source": [
    "star_wars.head()"
   ],
   "metadata": {
    "collapsed": false,
    "pycharm": {
     "name": "#%%\n"
    }
   }
  },
  {
   "cell_type": "markdown",
   "source": [
    "**Cleaning Continued**\n",
    "- We can see above that the respondents were asked to rank the films that they have seen on a scale of 1-6, with 1 being their most favorite and 6 being their least.\n",
    "- In order to perform numeric analysis on the columns I will need to convert them to type float as they are currently strings.  The first response entry will have their titles converted to NaN as no values can be inferred.\n",
    "- As I did earlier with the episode titles, I will also rename all Unnamed titles to make it easier to analyze."
   ],
   "metadata": {
    "collapsed": false
   }
  },
  {
   "cell_type": "code",
   "execution_count": 12,
   "outputs": [],
   "source": [
    "wrong_answers = {\n",
    "    'Star Wars: Episode I  The Phantom Menace':np.NaN,\n",
    "    'Star Wars: Episode II  Attack of the Clones':np.NaN,\n",
    "    'Star Wars: Episode III  Revenge of the Sith':np.NaN,\n",
    "    'Star Wars: Episode IV  A New Hope':np.NaN,\n",
    "    'Star Wars: Episode V The Empire Strikes Back':np.NaN,\n",
    "    'Star Wars: Episode VI Return of the Jedi':np.NaN,\n",
    "}\n",
    "rank_titles = {\n",
    "    'Please rank the Star Wars films in order of preference with 1 being your favorite film in the franchise and 6 being your least favorite film.':'episode_1_rank',\n",
    "    'Unnamed: 10':'episode_2_rank',\n",
    "    'Unnamed: 11':'episode_3_rank',\n",
    "    'Unnamed: 12':'episode_4_rank',\n",
    "    'Unnamed: 13':'episode_5_rank',\n",
    "    'Unnamed: 14':'episode_6_rank',\n",
    "}\n",
    "\n",
    "star_wars.iloc[0,9:15] = star_wars.iloc[0,9:15].map(wrong_answers)\n",
    "star_wars[star_wars.columns[9:15]] = star_wars[star_wars.columns[9:15]].astype(float)\n",
    "\n",
    "star_wars = star_wars.rename(columns=rank_titles)"
   ],
   "metadata": {
    "collapsed": false,
    "pycharm": {
     "name": "#%%\n"
    }
   }
  },
  {
   "cell_type": "code",
   "execution_count": 13,
   "outputs": [
    {
     "data": {
      "text/plain": "   RespondentID  Have you seen any of the 6 films in the Star Wars franchise?  \\\n0           NaN                                               True              \n1  3.292880e+09                                               True              \n2  3.292880e+09                                              False              \n3  3.292765e+09                                               True              \n4  3.292763e+09                                               True              \n\n  Do you consider yourself to be a fan of the Star Wars film franchise?  \\\n0                                                NaN                      \n1                                               True                      \n2                                                NaN                      \n3                                              False                      \n4                                               True                      \n\n   episode_1  episode_2  episode_3  episode_4  episode_5  episode_6  \\\n0       True       True       True       True       True       True   \n1       True       True       True       True       True       True   \n2      False      False      False      False      False      False   \n3       True       True       True      False      False      False   \n4       True       True       True       True       True       True   \n\n   episode_1_rank  ...       Unnamed: 28       Which character shot first?  \\\n0             NaN  ...              Yoda                          Response   \n1             3.0  ...    Very favorably  I don't understand this question   \n2             NaN  ...               NaN                               NaN   \n3             1.0  ...  Unfamiliar (N/A)  I don't understand this question   \n4             5.0  ...    Very favorably  I don't understand this question   \n\n   Are you familiar with the Expanded Universe?  \\\n0                                      Response   \n1                                           Yes   \n2                                           NaN   \n3                                            No   \n4                                            No   \n\n   Do you consider yourself to be a fan of the Expanded Universe?æ  \\\n0                                           Response                  \n1                                                 No                  \n2                                                NaN                  \n3                                                NaN                  \n4                                                NaN                  \n\n   Do you consider yourself to be a fan of the Star Trek franchise?    Gender  \\\n0                                           Response                 Response   \n1                                                 No                     Male   \n2                                                Yes                     Male   \n3                                                 No                     Male   \n4                                                Yes                     Male   \n\n        Age     Household Income                         Education  \\\n0  Response             Response                          Response   \n1     18-29                  NaN                High school degree   \n2     18-29         $0 - $24,999                   Bachelor degree   \n3     18-29         $0 - $24,999                High school degree   \n4     18-29  $100,000 - $149,999  Some college or Associate degree   \n\n  Location (Census Region)  \n0                 Response  \n1           South Atlantic  \n2       West South Central  \n3       West North Central  \n4       West North Central  \n\n[5 rows x 38 columns]",
      "text/html": "<div>\n<style scoped>\n    .dataframe tbody tr th:only-of-type {\n        vertical-align: middle;\n    }\n\n    .dataframe tbody tr th {\n        vertical-align: top;\n    }\n\n    .dataframe thead th {\n        text-align: right;\n    }\n</style>\n<table border=\"1\" class=\"dataframe\">\n  <thead>\n    <tr style=\"text-align: right;\">\n      <th></th>\n      <th>RespondentID</th>\n      <th>Have you seen any of the 6 films in the Star Wars franchise?</th>\n      <th>Do you consider yourself to be a fan of the Star Wars film franchise?</th>\n      <th>episode_1</th>\n      <th>episode_2</th>\n      <th>episode_3</th>\n      <th>episode_4</th>\n      <th>episode_5</th>\n      <th>episode_6</th>\n      <th>episode_1_rank</th>\n      <th>...</th>\n      <th>Unnamed: 28</th>\n      <th>Which character shot first?</th>\n      <th>Are you familiar with the Expanded Universe?</th>\n      <th>Do you consider yourself to be a fan of the Expanded Universe?æ</th>\n      <th>Do you consider yourself to be a fan of the Star Trek franchise?</th>\n      <th>Gender</th>\n      <th>Age</th>\n      <th>Household Income</th>\n      <th>Education</th>\n      <th>Location (Census Region)</th>\n    </tr>\n  </thead>\n  <tbody>\n    <tr>\n      <th>0</th>\n      <td>NaN</td>\n      <td>True</td>\n      <td>NaN</td>\n      <td>True</td>\n      <td>True</td>\n      <td>True</td>\n      <td>True</td>\n      <td>True</td>\n      <td>True</td>\n      <td>NaN</td>\n      <td>...</td>\n      <td>Yoda</td>\n      <td>Response</td>\n      <td>Response</td>\n      <td>Response</td>\n      <td>Response</td>\n      <td>Response</td>\n      <td>Response</td>\n      <td>Response</td>\n      <td>Response</td>\n      <td>Response</td>\n    </tr>\n    <tr>\n      <th>1</th>\n      <td>3.292880e+09</td>\n      <td>True</td>\n      <td>True</td>\n      <td>True</td>\n      <td>True</td>\n      <td>True</td>\n      <td>True</td>\n      <td>True</td>\n      <td>True</td>\n      <td>3.0</td>\n      <td>...</td>\n      <td>Very favorably</td>\n      <td>I don't understand this question</td>\n      <td>Yes</td>\n      <td>No</td>\n      <td>No</td>\n      <td>Male</td>\n      <td>18-29</td>\n      <td>NaN</td>\n      <td>High school degree</td>\n      <td>South Atlantic</td>\n    </tr>\n    <tr>\n      <th>2</th>\n      <td>3.292880e+09</td>\n      <td>False</td>\n      <td>NaN</td>\n      <td>False</td>\n      <td>False</td>\n      <td>False</td>\n      <td>False</td>\n      <td>False</td>\n      <td>False</td>\n      <td>NaN</td>\n      <td>...</td>\n      <td>NaN</td>\n      <td>NaN</td>\n      <td>NaN</td>\n      <td>NaN</td>\n      <td>Yes</td>\n      <td>Male</td>\n      <td>18-29</td>\n      <td>$0 - $24,999</td>\n      <td>Bachelor degree</td>\n      <td>West South Central</td>\n    </tr>\n    <tr>\n      <th>3</th>\n      <td>3.292765e+09</td>\n      <td>True</td>\n      <td>False</td>\n      <td>True</td>\n      <td>True</td>\n      <td>True</td>\n      <td>False</td>\n      <td>False</td>\n      <td>False</td>\n      <td>1.0</td>\n      <td>...</td>\n      <td>Unfamiliar (N/A)</td>\n      <td>I don't understand this question</td>\n      <td>No</td>\n      <td>NaN</td>\n      <td>No</td>\n      <td>Male</td>\n      <td>18-29</td>\n      <td>$0 - $24,999</td>\n      <td>High school degree</td>\n      <td>West North Central</td>\n    </tr>\n    <tr>\n      <th>4</th>\n      <td>3.292763e+09</td>\n      <td>True</td>\n      <td>True</td>\n      <td>True</td>\n      <td>True</td>\n      <td>True</td>\n      <td>True</td>\n      <td>True</td>\n      <td>True</td>\n      <td>5.0</td>\n      <td>...</td>\n      <td>Very favorably</td>\n      <td>I don't understand this question</td>\n      <td>No</td>\n      <td>NaN</td>\n      <td>Yes</td>\n      <td>Male</td>\n      <td>18-29</td>\n      <td>$100,000 - $149,999</td>\n      <td>Some college or Associate degree</td>\n      <td>West North Central</td>\n    </tr>\n  </tbody>\n</table>\n<p>5 rows × 38 columns</p>\n</div>"
     },
     "execution_count": 13,
     "metadata": {},
     "output_type": "execute_result"
    }
   ],
   "source": [
    "star_wars.head()"
   ],
   "metadata": {
    "collapsed": false,
    "pycharm": {
     "name": "#%%\n"
    }
   }
  },
  {
   "cell_type": "code",
   "execution_count": 14,
   "outputs": [
    {
     "data": {
      "text/plain": "<AxesSubplot:title={'center':'Mean Score per Episode'}, xlabel='Episode', ylabel='Avg. Score'>"
     },
     "execution_count": 14,
     "metadata": {},
     "output_type": "execute_result"
    },
    {
     "data": {
      "text/plain": "<Figure size 432x288 with 1 Axes>",
      "image/png": "[encoded data removed]"
     },
     "metadata": {
      "needs_background": "light"
     },
     "output_type": "display_data"
    }
   ],
   "source": [
    "%matplotlib inline\n",
    "means = star_wars[star_wars.columns[9:15]].mean()\n",
    "means.plot(kind='bar', legend=False, xlabel='Episode',title='Mean Score per Episode', ylabel='Avg. Score', rot=45)"
   ],
   "metadata": {
    "collapsed": false,
    "pycharm": {
     "name": "#%%\n"
    }
   }
  },
  {
   "cell_type": "markdown",
   "source": [
    "**Observations**\n",
    "- From the graph we can determine that, just as FiveThirtyEight asserted, that \"Star Wars: The Empire Strikes Back\" is the best film in the franchise.  However, we should dig deeper and see if there are any factors that may be skewing the results."
   ],
   "metadata": {
    "collapsed": false
   }
  },
  {
   "cell_type": "code",
   "execution_count": 15,
   "outputs": [
    {
     "data": {
      "text/plain": "<AxesSubplot:title={'center':'Total Views per Episode'}, xlabel='Episode', ylabel='Total Views'>"
     },
     "execution_count": 15,
     "metadata": {},
     "output_type": "execute_result"
    },
    {
     "data": {
      "text/plain": "<Figure size 432x288 with 1 Axes>",
      "image/png": "[encoded data removed]"
     },
     "metadata": {
      "needs_background": "light"
     },
     "output_type": "display_data"
    }
   ],
   "source": [
    "star_wars[star_wars.columns[3:9]].sum().plot(kind='bar',xlabel='Episode', ylabel='Total Views', rot=45, legend=False, title='Total Views per Episode', color='green')"
   ],
   "metadata": {
    "collapsed": false,
    "pycharm": {
     "name": "#%%\n"
    }
   }
  },
  {
   "cell_type": "markdown",
   "source": [
    "**Observation**\n",
    "- By computing the sum of the viewership of all episodes, we can determine that Episode 5 is not artificially ranked higher due to a lower proportion of viewership."
   ],
   "metadata": {
    "collapsed": false
   }
  },
  {
   "cell_type": "markdown",
   "source": [
    "**Further Inference**\n",
    "- There are three questions posed by FiveThirtyEight which will allow us to split the dataset into two subsets, gender and Star Trek fandom.\n",
    "- I will separate the data based on such in order to determine if there are any differences in movie rankings."
   ],
   "metadata": {
    "collapsed": false
   }
  },
  {
   "cell_type": "code",
   "execution_count": 16,
   "outputs": [],
   "source": [
    "sw_males = star_wars[star_wars['Gender']=='Male']\n",
    "sw_females = star_wars[star_wars['Gender']=='Female']\n",
    "st_fan = star_wars[star_wars['Do you consider yourself to be a fan of the Star Trek franchise?']=='Yes']\n",
    "st_not_fan = star_wars[star_wars['Do you consider yourself to be a fan of the Star Trek franchise?']=='No']"
   ],
   "metadata": {
    "collapsed": false,
    "pycharm": {
     "name": "#%%\n"
    }
   }
  },
  {
   "cell_type": "code",
   "execution_count": 17,
   "outputs": [
    {
     "data": {
      "text/plain": "<Figure size 432x288 with 2 Axes>",
      "image/png": "[encoded data removed]"
     },
     "metadata": {
      "needs_background": "light"
     },
     "output_type": "display_data"
    }
   ],
   "source": [
    "fig, (ax, ax2) = plt.subplots(ncols=2)\n",
    "sw_males[sw_males.columns[9:15]].mean().plot(ax=ax, kind='bar', xlabel='Episode', ylabel='Mean Score', rot=45, title='Mean Score per Episode (Male)')\n",
    "sw_males[sw_males.columns[3:9]].sum().plot(ax=ax2, kind='bar', xlabel='Episode', ylabel='Total Views', rot=45, color='green', title='Total Views per Episode (Male)')\n",
    "plt.subplots_adjust(wspace = .5)\n",
    "plt.show()"
   ],
   "metadata": {
    "collapsed": false,
    "pycharm": {
     "name": "#%%\n"
    }
   }
  },
  {
   "cell_type": "code",
   "execution_count": 18,
   "outputs": [
    {
     "data": {
      "text/plain": "<Figure size 432x288 with 2 Axes>",
      "image/png": "[encoded data removed]"
     },
     "metadata": {
      "needs_background": "light"
     },
     "output_type": "display_data"
    }
   ],
   "source": [
    "fig, (ax, ax2) = plt.subplots(ncols=2)\n",
    "sw_females[sw_females.columns[9:15]].mean().plot(ax=ax, kind='bar', xlabel='Movie', ylabel='Mean Score', rot=45, title='Mean Score per Episode (Female)')\n",
    "sw_females[sw_females.columns[3:9]].sum().plot(ax=ax2, kind='bar', xlabel='Movie', ylabel='Total Views', rot=45, color='green', title='Total Views per Episode (Female)')\n",
    "plt.subplots_adjust(wspace = .5)\n",
    "plt.show()"
   ],
   "metadata": {
    "collapsed": false,
    "pycharm": {
     "name": "#%%\n"
    }
   }
  },
  {
   "cell_type": "code",
   "execution_count": 19,
   "outputs": [
    {
     "data": {
      "text/plain": "<Figure size 432x288 with 2 Axes>",
      "image/png": "[encoded data removed]"
     },
     "metadata": {
      "needs_background": "light"
     },
     "output_type": "display_data"
    }
   ],
   "source": [
    "fig, (ax, ax2) = plt.subplots(ncols=2)\n",
    "st_fan[st_fan.columns[9:15]].mean().plot(ax=ax, kind='bar', xlabel='Movie', ylabel='Mean Score', rot=45, title='Mean Score (Star Trek Fan)')\n",
    "st_fan[st_fan.columns[3:9]].sum().plot(ax=ax2, kind='bar', xlabel='Movie', ylabel='Total Views', rot=45, color='green', title='Total Views (Star Trek Fan)')\n",
    "plt.subplots_adjust(wspace = .8)\n",
    "plt.show()"
   ],
   "metadata": {
    "collapsed": false,
    "pycharm": {
     "name": "#%%\n"
    }
   }
  },
  {
   "cell_type": "code",
   "execution_count": 20,
   "outputs": [
    {
     "data": {
      "text/plain": "<Figure size 432x288 with 2 Axes>",
      "image/png": "[encoded data removed]"
     },
     "metadata": {
      "needs_background": "light"
     },
     "output_type": "display_data"
    }
   ],
   "source": [
    "fig, (ax, ax2) = plt.subplots(ncols=2)\n",
    "st_not_fan[st_not_fan.columns[9:15]].mean().plot(ax=ax, kind='bar', xlabel='Movie', ylabel='Mean Score', rot=45, title='Mean Score (Not a Star Trek Fan)')\n",
    "st_not_fan[st_not_fan.columns[3:9]].sum().plot(ax=ax2, kind='bar', xlabel='Movie', ylabel='Total Views', rot=45, color='green', title='Total Views (Not a Star Trek Fan)')\n",
    "plt.subplots_adjust(wspace = .8)\n",
    "plt.show()"
   ],
   "metadata": {
    "collapsed": false,
    "pycharm": {
     "name": "#%%\n"
    }
   }
  },
  {
   "cell_type": "markdown",
   "source": [
    "**Observations**\n",
    "- Across all measured subsets, Star Wars Episode 5 remains the undisputed favorite regardless of gender or enjoyment of the rival series Star Trek.\n",
    "- Male viewers generally seem to have higher viewership and are more critical (rank titles lower) than female viewers.\n",
    "- Star Trek Fans and viewers who do not enjoy Star Trek appear to rank all titles similarly, however non-Star Trek fans have viewed far fewer of the newer Star Wars movies than Star Trek fans."
   ],
   "metadata": {
    "collapsed": false,
    "pycharm": {
     "name": "#%% md\n"
    }
   }
  }
 ],
 "metadata": {
  "kernelspec": {
   "display_name": "Python 3",
   "language": "python",
   "name": "python3"
  },
  "language_info": {
   "codemirror_mode": {
    "name": "ipython",
    "version": 2
   },
   "file_extension": ".py",
   "mimetype": "text/x-python",
   "name": "python",
   "nbconvert_exporter": "python",
   "pygments_lexer": "ipython2",
   "version": "2.7.6"
  }
 },
 "nbformat": 4,
 "nbformat_minor": 0
}